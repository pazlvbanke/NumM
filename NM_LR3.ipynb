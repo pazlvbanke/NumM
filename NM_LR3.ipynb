{
 "cells": [
  {
   "cell_type": "markdown",
   "metadata": {},
   "source": [
    "# 3.1.2"
   ]
  },
  {
   "cell_type": "code",
   "execution_count": 28,
   "metadata": {},
   "outputs": [],
   "source": [
    "import numpy as np\n",
    "from itertools import product\n",
    "\n",
    "N = 2\n",
    "n = 6\n",
    "\n",
    "C_raw = [0.1*N*i*j for i, j in product(range(1, n + 1), range(1, n + 1))]\n",
    "A_raw = np.array([(125/(4 + c*0.25)**6) for c in C_raw])\n",
    "A = A_raw.reshape((n, n))"
   ]
  },
  {
   "cell_type": "markdown",
   "metadata": {},
   "source": [
    "### 1. Задать систему и найти решение"
   ]
  },
  {
   "cell_type": "code",
   "execution_count": 10,
   "metadata": {},
   "outputs": [
    {
     "name": "stdout",
     "output_type": "stream",
     "text": [
      "A: [[0.02832565 0.02631521 0.02446929 0.02277269 0.02121175 0.01977422]\n",
      " [0.02631521 0.02277269 0.01977422 0.01722638 0.01505341 0.01319359]\n",
      " [0.02446929 0.01977422 0.01609719 0.01319359 0.01088299 0.00903095]\n",
      " [0.02277269 0.01722638 0.01319359 0.01022028 0.008      0.00632252]\n",
      " [0.02121175 0.01505341 0.01088299 0.008      0.00596972 0.00451579]\n",
      " [0.01977422 0.01319359 0.00903095 0.00632252 0.00451579 0.00328354]] \n",
      " b: [2. 2. 2. 2. 2. 2.]\n"
     ]
    }
   ],
   "source": [
    "b = np.array([np.float64(N)]*n)\n",
    "print('A:', A, '\\n', 'b:', b)"
   ]
  },
  {
   "cell_type": "code",
   "execution_count": 11,
   "metadata": {},
   "outputs": [
    {
     "name": "stdout",
     "output_type": "stream",
     "text": [
      "Solution: [  634.55255727 -2489.26761738  5081.29044241 -5708.30702852\n",
      "  3353.92805949  -806.77186167]\n"
     ]
    }
   ],
   "source": [
    "x = np.linalg.solve(A, b)\n",
    "print('Solution:', x)"
   ]
  },
  {
   "cell_type": "markdown",
   "metadata": {},
   "source": [
    "### 2. Найти  число обусловленности матрицы А"
   ]
  },
  {
   "cell_type": "code",
   "execution_count": 21,
   "metadata": {},
   "outputs": [
    {
     "name": "stdout",
     "output_type": "stream",
     "text": [
      "Condition number : 16644654.262481416\n"
     ]
    }
   ],
   "source": [
    "cond = np.linalg.cond(A, p=np.inf)\n",
    "print('Condition number :', cond)"
   ]
  },
  {
   "cell_type": "markdown",
   "metadata": {},
   "source": [
    "### 3. Найти решения $Ax^i = b^i$"
   ]
  },
  {
   "cell_type": "code",
   "execution_count": 15,
   "metadata": {},
   "outputs": [],
   "source": [
    "eps = 0.001\n",
    "\n",
    "bs = np.repeat(b, n).reshape((n, n))\n",
    "diag = np.diag([eps]*n)\n",
    "bs = bs + diag\n",
    "\n",
    "\n",
    "sols = []\n",
    "for b in bs:\n",
    "    sols.append(np.linalg.solve(A, b))"
   ]
  },
  {
   "cell_type": "markdown",
   "metadata": {},
   "source": [
    "### 4. Найти относительные погрешности решений $x^i$"
   ]
  },
  {
   "cell_type": "code",
   "execution_count": 17,
   "metadata": {},
   "outputs": [
    {
     "name": "stdout",
     "output_type": "stream",
     "text": [
      "[0.22822803 1.70611743 4.9809452  7.11991749 4.99527222 1.37891053]\n"
     ]
    }
   ],
   "source": [
    "norms = list(map(lambda x_i: max(abs(x - x_i))/max(abs(x)), sols))\n",
    "norms = np.array(norms, dtype=np.float64)\n",
    "print(norms)"
   ]
  },
  {
   "cell_type": "markdown",
   "metadata": {},
   "source": [
    "### 5. Найти самый весомый компонент вектора $b$"
   ]
  },
  {
   "cell_type": "code",
   "execution_count": 20,
   "metadata": {},
   "outputs": [
    {
     "name": "stdout",
     "output_type": "stream",
     "text": [
      "Max component of vector b: 3\n"
     ]
    }
   ],
   "source": [
    "comp = np.argsort(norms)[-1]\n",
    "assert max(np.abs(norms)) == norms[comp]\n",
    "print('Max component of vector b:', comp)"
   ]
  },
  {
   "cell_type": "markdown",
   "metadata": {},
   "source": [
    "### 6. Результаты"
   ]
  },
  {
   "cell_type": "code",
   "execution_count": 22,
   "metadata": {},
   "outputs": [
    {
     "name": "stdout",
     "output_type": "stream",
     "text": [
      "Theoretical: 8318.168047216184 \n",
      " Practical: 7.119917487115834\n"
     ]
    }
   ],
   "source": [
    "estimate = cond * (max(np.abs(b - bs[comp]))/max(abs(b)))\n",
    "print('Theoretical:', estimate, '\\n', 'Practical:', norms[comp])"
   ]
  },
  {
   "cell_type": "markdown",
   "metadata": {},
   "source": [
    "Вывод: практическая оценка на много меньше теоретической. Так получилось из-за большого числа обусловленности, которое участвует в формуле для теоретической оценки. Но оценка на практике не превосходит теоретического супремума, поэтому решение, полученное для зашумленных данных (которое соответствует теоретической оценке), является адекватным."
   ]
  },
  {
   "cell_type": "markdown",
   "metadata": {},
   "source": [
    "# 3.4"
   ]
  },
  {
   "cell_type": "code",
   "execution_count": 26,
   "metadata": {},
   "outputs": [],
   "source": [
    "def getUpper(matrix, n):\n",
    "    for i, j in product(range(n), range(n)):\n",
    "        matrix[i, j] = 0 if i > j else matrix[i, j]\n",
    "    return matrix\n",
    "\n",
    "def getLower(matrix, n):\n",
    "    for i, j in product(range(n), range(n)):\n",
    "        if i < j:\n",
    "            matrix[i, j] = 0\n",
    "        elif i == j:\n",
    "            matrix[i, j] = 1\n",
    "        else:\n",
    "            matrix[i, j] = matrix[i, j]\n",
    "    return matrix"
   ]
  },
  {
   "cell_type": "code",
   "execution_count": 30,
   "metadata": {},
   "outputs": [],
   "source": [
    "from scipy.linalg import lu_factor\n",
    "\n",
    "LU, p = lu_factor(A)\n",
    "\n",
    "lower = getLower(LU.copy(), n)\n",
    "upper = getUpper(LU.copy(), n)"
   ]
  },
  {
   "cell_type": "markdown",
   "metadata": {},
   "source": [
    "# 3.9.1"
   ]
  },
  {
   "cell_type": "code",
   "execution_count": 31,
   "metadata": {},
   "outputs": [],
   "source": [
    "def cholesky(A):\n",
    "    L = np.zeros(A.shape)\n",
    "    for i in range(A.shape[0]):\n",
    "        for j in range(i + 1):\n",
    "            if i != j:\n",
    "                L[i,j] = 1 / L[j,j] * (A[i,j] - np.dot(L[i], L[j]))\n",
    "            else:\n",
    "                L[i,i] = np.sqrt(A[i,i] - np.dot(L[i], L[i]))\n",
    "    return L            "
   ]
  },
  {
   "cell_type": "code",
   "execution_count": 33,
   "metadata": {},
   "outputs": [],
   "source": [
    "N = 1\n",
    "n = 40\n",
    "m = 10\n",
    "\n",
    "b = np.array([n * i + m for i in range(n)])\n",
    "A = np.array([\n",
    "    [(i + j)/(m + n) if i != j else (n + m**2 + j/m + i/n) for j in range(n)]\n",
    "                                for i in range(n)])"
   ]
  },
  {
   "cell_type": "code",
   "execution_count": 34,
   "metadata": {},
   "outputs": [
    {
     "data": {
      "text/plain": [
       "1.6592352728067103"
      ]
     },
     "execution_count": 34,
     "metadata": {},
     "output_type": "execute_result"
    }
   ],
   "source": [
    "L = cholesky(A)\n",
    "y = np.linalg.solve(L, b)\n",
    "x = np.linalg.solve(L.T,y)\n",
    "A_inv = np.dot(np.linalg.inv(L.T),np.linalg.inv(L))\n",
    "\n",
    "cond = np.linalg.norm(A, ord = np.inf)*np.linalg.norm(A_inv, ord = np.inf)\n",
    "cond"
   ]
  }
 ],
 "metadata": {
  "kernelspec": {
   "display_name": "Python 3",
   "language": "python",
   "name": "python3"
  },
  "language_info": {
   "codemirror_mode": {
    "name": "ipython",
    "version": 3
   },
   "file_extension": ".py",
   "mimetype": "text/x-python",
   "name": "python",
   "nbconvert_exporter": "python",
   "pygments_lexer": "ipython3",
   "version": "3.7.1"
  }
 },
 "nbformat": 4,
 "nbformat_minor": 2
}
