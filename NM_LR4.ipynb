{
 "cells": [
  {
   "cell_type": "markdown",
   "metadata": {},
   "source": [
    "# 4.1.2"
   ]
  },
  {
   "cell_type": "code",
   "execution_count": null,
   "metadata": {},
   "outputs": [],
   "source": [
    "import numpy as np"
   ]
  },
  {
   "cell_type": "code",
   "execution_count": 19,
   "metadata": {},
   "outputs": [],
   "source": [
    "# Считаем Гауссом\n",
    "A = np.matrix([[29.7, 2, 0, 19.8, 2],\n",
    "               [9.9, -21, 0, -9.9, 1],\n",
    "               [-9.9, 11, 29, 6.6, 1],\n",
    "               [9.9, 7.5, 2, -19.8, 0],\n",
    "               [-49.5, -1, 23, 9.9, 84]])\n",
    "b = np.array([26.2, -41.1, 97.4, 99.8, 27.1])\n",
    "\n",
    "x_np = np.linalg.solve(A, b)\n"
   ]
  },
  {
   "cell_type": "code",
   "execution_count": 5,
   "metadata": {},
   "outputs": [
    {
     "data": {
      "text/plain": [
       "array([ 2.02020202,  4.        ,  3.        , -2.21212121,  1.        ])"
      ]
     },
     "execution_count": 5,
     "metadata": {},
     "output_type": "execute_result"
    }
   ],
   "source": [
    "x_np"
   ]
  },
  {
   "cell_type": "code",
   "execution_count": 20,
   "metadata": {},
   "outputs": [],
   "source": [
    "# Приводим в вид х = Вх + с\n",
    "\n",
    "n = 5\n",
    "B = np.zeros((n, n), dtype=np.float)\n",
    "c = np.empty((n,), dtype=np.float)\n",
    "\n",
    "eps = 1e-10\n",
    "\n",
    "for i in range(n):\n",
    "    for j in range(n):\n",
    "        if i == j:\n",
    "            continue\n",
    "        try:\n",
    "            B[i][j] = -A[i, j]/A[i, i]\n",
    "        except ZeroDivisionError:\n",
    "            B[i][j] = -A[i, j]/(A[i, i] + eps)        \n",
    "c = np.asarray([b[i]/A[i, i] if A[i, i] != np.float(0) else b[i]/(A[i, i] + eps) for i in range(n)])"
   ]
  },
  {
   "cell_type": "code",
   "execution_count": 21,
   "metadata": {},
   "outputs": [],
   "source": [
    "np.testing.assert_allclose(x_np, B@x_np + c)"
   ]
  },
  {
   "cell_type": "code",
   "execution_count": 24,
   "metadata": {},
   "outputs": [],
   "source": [
    "# Проверяем действительно ли норма бесконечность меньше 1\n",
    "\n",
    "norm_b = np.linalg.norm(B, ord=np.inf)\n",
    "assert norm_b < 1"
   ]
  },
  {
   "cell_type": "code",
   "execution_count": 6,
   "metadata": {},
   "outputs": [],
   "source": [
    "def seidel (A, B, x0, eps=1e-7, iterations=300):\n",
    "    '''Solves system of linear eq with seidel method'''\n",
    "    n = B.shape[0]\n",
    "    x = np.zeros(shape=n)\n",
    "    x_prev = x0.copy()\n",
    "    for i in range(iterations):\n",
    "        for ind in range(n):\n",
    "            sum1 = np.sum(A[ind, j] * x[j] for j in range(ind))\n",
    "            sum2 = np.sum(A[ind, j] * x_prev[j] for j in range(ind + 1, n))\n",
    "            x[ind] = (B[ind] - sum1 - sum2 ) / A[ind, ind]\n",
    "        if np.linalg.norm(x - x_prev) < eps:\n",
    "            return (x, i + 1)\n",
    "        x_prev = x.copy()\n",
    "    return (x, iterations)"
   ]
  },
  {
   "cell_type": "code",
   "execution_count": 26,
   "metadata": {},
   "outputs": [
    {
     "name": "stdout",
     "output_type": "stream",
     "text": [
      "Абсолютная погрешность при начальном векторе [0 0 0 0 0] = 0.06853430876294997\n"
     ]
    },
    {
     "name": "stderr",
     "output_type": "stream",
     "text": [
      "/Users/alinacodzy/anaconda3/lib/python3.7/site-packages/ipykernel_launcher.py:8: DeprecationWarning: Calling np.sum(generator) is deprecated, and in the future will give a different result. Use np.sum(np.from_iter(generator)) or the python sum builtin instead.\n",
      "  \n",
      "/Users/alinacodzy/anaconda3/lib/python3.7/site-packages/ipykernel_launcher.py:9: DeprecationWarning: Calling np.sum(generator) is deprecated, and in the future will give a different result. Use np.sum(np.from_iter(generator)) or the python sum builtin instead.\n",
      "  if __name__ == '__main__':\n"
     ]
    }
   ],
   "source": [
    "x0 = np.array([0, 0, 0, 0, 0])\n",
    "x, it = seidel(A, b, x0, iterations=10)\n",
    "a_err = np.linalg.norm(x - x_np, ord=np.inf)\n",
    "print(f'Абсолютная погрешность при начальном векторе {x0} = {a_err}')"
   ]
  },
  {
   "cell_type": "code",
   "execution_count": 27,
   "metadata": {},
   "outputs": [
    {
     "name": "stdout",
     "output_type": "stream",
     "text": [
      "Абсолютная погрешность при начальном векторе [1 2 3 4 5] = 0.2279018623608735\n"
     ]
    },
    {
     "name": "stderr",
     "output_type": "stream",
     "text": [
      "/Users/alinacodzy/anaconda3/lib/python3.7/site-packages/ipykernel_launcher.py:8: DeprecationWarning: Calling np.sum(generator) is deprecated, and in the future will give a different result. Use np.sum(np.from_iter(generator)) or the python sum builtin instead.\n",
      "  \n",
      "/Users/alinacodzy/anaconda3/lib/python3.7/site-packages/ipykernel_launcher.py:9: DeprecationWarning: Calling np.sum(generator) is deprecated, and in the future will give a different result. Use np.sum(np.from_iter(generator)) or the python sum builtin instead.\n",
      "  if __name__ == '__main__':\n"
     ]
    }
   ],
   "source": [
    "x0 = np.array([1, 2, 3, 4, 5])\n",
    "x, it = seidel(A, b, x0, iterations=10)\n",
    "a_err = np.linalg.norm(x - x_np, ord=np.inf)\n",
    "print(f'Абсолютная погрешность при начальном векторе {x0} = {a_err}')"
   ]
  },
  {
   "cell_type": "markdown",
   "metadata": {},
   "source": [
    "# 4.2"
   ]
  },
  {
   "cell_type": "code",
   "execution_count": 33,
   "metadata": {},
   "outputs": [
    {
     "name": "stdout",
     "output_type": "stream",
     "text": [
      "Абсолютная погрешность при начальном векторе [0 0 0 0 0] = 2.0652370746887527e-07\n",
      "Итераций 48\n",
      "Абсолютная погрешность при начальном векторе [1 2 3 4 5] = 1.8015999891929368e-07\n",
      "Итераций 52\n"
     ]
    },
    {
     "name": "stderr",
     "output_type": "stream",
     "text": [
      "/Users/alinacodzy/anaconda3/lib/python3.7/site-packages/ipykernel_launcher.py:8: DeprecationWarning: Calling np.sum(generator) is deprecated, and in the future will give a different result. Use np.sum(np.from_iter(generator)) or the python sum builtin instead.\n",
      "  \n",
      "/Users/alinacodzy/anaconda3/lib/python3.7/site-packages/ipykernel_launcher.py:9: DeprecationWarning: Calling np.sum(generator) is deprecated, and in the future will give a different result. Use np.sum(np.from_iter(generator)) or the python sum builtin instead.\n",
      "  if __name__ == '__main__':\n"
     ]
    }
   ],
   "source": [
    "x0 = np.array([0, 0, 0, 0, 0])\n",
    "x, it = seidel(A, b, x0, eps=1e-6)\n",
    "a_err = np.linalg.norm(x - x_np, ord=np.inf)\n",
    "print(f'Абсолютная погрешность при начальном векторе {x0} = {a_err}\\nИтераций {it}')\n",
    "\n",
    "x0 = np.array([1, 2, 3, 4, 5])\n",
    "x, it = seidel(A, b, x0, eps=1e-6)\n",
    "a_err = np.linalg.norm(x - x_np, ord=np.inf)\n",
    "print(f'Абсолютная погрешность при начальном векторе {x0} = {a_err}\\nИтераций {it}')"
   ]
  },
  {
   "cell_type": "markdown",
   "metadata": {},
   "source": [
    "# 4.4.2"
   ]
  },
  {
   "cell_type": "code",
   "execution_count": 128,
   "metadata": {},
   "outputs": [],
   "source": [
    "t = np.arange(-1.0, 1.2, 0.2)\n",
    "t = t.round(decimals=4)\n",
    "B = dict.fromkeys(t)\n",
    "B_norms = dict.fromkeys(t)\n",
    "for key in B.keys():\n",
    "    B[key] = np.array([[0.2, 0.3, -0.1], [np.cos(6*np.pi*key), -0.25, 0.3], [0.2, np.sin(10*np.pi*key), 0.3]])\n",
    "    B_norms[key] = np.linalg.norm(B[key], ord=np.inf)\n",
    "\n",
    "c = np.array([1, 2, 1])\n",
    "\n"
   ]
  },
  {
   "cell_type": "code",
   "execution_count": 103,
   "metadata": {},
   "outputs": [
    {
     "data": {
      "text/plain": [
       "{-1.0: 1.55,\n",
       " -0.8: 1.359016994374947,\n",
       " -0.6: 0.859016994374947,\n",
       " -0.4: 0.8590169943749477,\n",
       " -0.2: 1.3590169943749475,\n",
       " -0.0: 1.55,\n",
       " 0.2: 1.3590169943749475,\n",
       " 0.4: 0.8590169943749477,\n",
       " 0.6: 0.859016994374947,\n",
       " 0.8: 1.359016994374947,\n",
       " 1.0: 1.55}"
      ]
     },
     "execution_count": 103,
     "metadata": {},
     "output_type": "execute_result"
    }
   ],
   "source": [
    "B_norms"
   ]
  },
  {
   "cell_type": "code",
   "execution_count": 133,
   "metadata": {},
   "outputs": [
    {
     "data": {
      "text/plain": [
       "<matplotlib.legend.Legend at 0x124303e10>"
      ]
     },
     "execution_count": 133,
     "metadata": {},
     "output_type": "execute_result"
    },
    {
     "data": {
      "image/png": "[encoded data removed]",
      "text/plain": [
       "<Figure size 432x288 with 1 Axes>"
      ]
     },
     "metadata": {
      "needs_background": "light"
     },
     "output_type": "display_data"
    }
   ],
   "source": [
    "from matplotlib import pyplot as plt\n",
    "\n",
    "plt.xlabel(\"t-value\")\n",
    "plt.ylabel(\"Norm B\")\n",
    "\n",
    "#plt.scatter(t, B_norms.values())\n",
    "plt.plot(t, B_norms.values(), 'pink')\n",
    "\n",
    "norm_ok = {k: v for k, v in B_norms.items() if v < 1}\n",
    "plt.scatter(norm_ok.keys(), norm_ok.values(), color='red', label='Norm < 1')\n",
    "plt.legend(loc=1)"
   ]
  },
  {
   "cell_type": "code",
   "execution_count": 135,
   "metadata": {},
   "outputs": [
    {
     "name": "stdout",
     "output_type": "stream",
     "text": [
      "Ответ при t = -0.6: [ 8.88258661e+125  1.36694518e+126 -5.92172441e+125]\n",
      "Итераций : 300\n"
     ]
    },
    {
     "name": "stderr",
     "output_type": "stream",
     "text": [
      "/Users/alinacodzy/anaconda3/lib/python3.7/site-packages/ipykernel_launcher.py:8: DeprecationWarning: Calling np.sum(generator) is deprecated, and in the future will give a different result. Use np.sum(np.from_iter(generator)) or the python sum builtin instead.\n",
      "  \n",
      "/Users/alinacodzy/anaconda3/lib/python3.7/site-packages/ipykernel_launcher.py:9: DeprecationWarning: Calling np.sum(generator) is deprecated, and in the future will give a different result. Use np.sum(np.from_iter(generator)) or the python sum builtin instead.\n",
      "  if __name__ == '__main__':\n"
     ]
    }
   ],
   "source": [
    "import collections\n",
    "norm_ok = collections.OrderedDict(sorted(norm_ok.items()))\n",
    "x_maxt = next(iter(norm_ok))\n",
    "\n",
    "x_ok, it = seidel(B[x_maxt], c, np.zeros(c.size), eps=1e-5)\n",
    "print(f'Ответ при t = {x_maxt}: {x_ok}\\nИтераций : {it}')"
   ]
  },
  {
   "cell_type": "markdown",
   "metadata": {},
   "source": [
    "# 4.7.1"
   ]
  },
  {
   "cell_type": "code",
   "execution_count": 146,
   "metadata": {},
   "outputs": [],
   "source": [
    "n = 20\n",
    "m = 1\n",
    "\n",
    "q = 0.993 + (-1) **m * m * 10 ** (-4)\n",
    "tau = np.sum([q ** (2 * i) for i in range(1, n + 1)])\n",
    "t = n + m\n",
    "\n",
    "b = np.array([t * q ** i for i in range(1, n+1)])\n",
    "\n",
    "A = np.ones((n, n))\n",
    "for i in range(n):\n",
    "    for j in range(n):\n",
    "        if (i == j):\n",
    "            A[i][j] = tau+2*q**(i)*t+t**2\n",
    "        else:\n",
    "            A[i][j] = tau + (q**i + q**j)*t\n",
    "x0 = np.linalg.solve(A, b)"
   ]
  },
  {
   "cell_type": "code",
   "execution_count": 147,
   "metadata": {},
   "outputs": [
    {
     "data": {
      "text/plain": [
       "((20, 20), (20,))"
      ]
     },
     "execution_count": 147,
     "metadata": {},
     "output_type": "execute_result"
    }
   ],
   "source": [
    "A.shape, b.shape"
   ]
  },
  {
   "cell_type": "code",
   "execution_count": 151,
   "metadata": {},
   "outputs": [],
   "source": [
    "# Приводим в вид х = Вх + с\n",
    "\n",
    "B = np.zeros((n, n), dtype=np.float)\n",
    "c = np.empty(n, dtype=np.float)\n",
    "\n",
    "eps = 1e-6\n",
    "\n",
    "for i in range(n):\n",
    "    for j in range(n):\n",
    "        if i == j:\n",
    "            continue\n",
    "        try:\n",
    "            B[i][j] = -A[i, j]/A[i, i]\n",
    "        except ZeroDivisionError:\n",
    "            B[i][j] = -A[i, j]/(A[i, i] + eps) \n",
    "            \n",
    "c = np.asarray([b[i]/A[i, i] if A[i, i] != np.float(0) else b[i]/(A[i, i] + eps) for i in range(n)])"
   ]
  },
  {
   "cell_type": "code",
   "execution_count": 154,
   "metadata": {},
   "outputs": [],
   "source": [
    "np.testing.assert_allclose(x0, B@x0 + c)"
   ]
  },
  {
   "cell_type": "code",
   "execution_count": 177,
   "metadata": {},
   "outputs": [],
   "source": [
    "def rel(B, c, x0, w, eps, max_it):\n",
    "    x = x0\n",
    "    for i in range(max_it):\n",
    "        z = x\n",
    "        x = np.dot(B,z)+c\n",
    "        x = x * w + z *(1 - w)\n",
    "        if (np.linalg.norm(x - z, np.inf) < eps):\n",
    "            return x, i+1   \n",
    "    return x, i + 1"
   ]
  },
  {
   "cell_type": "code",
   "execution_count": 186,
   "metadata": {},
   "outputs": [
    {
     "name": "stdout",
     "output_type": "stream",
     "text": [
      "Оптимальное значение w:  0.4\n",
      "Решение x:  [0.01468274 0.01443103 0.01418111 0.01393296 0.01368656 0.01344192\n",
      " 0.01319901 0.01295782 0.01271834 0.01248056 0.01224447 0.01201005\n",
      " 0.0117773  0.01154619 0.01131672 0.01108888 0.01086266 0.01063804\n",
      " 0.01041502 0.01019357]\n"
     ]
    }
   ],
   "source": [
    "ws = np.linspace(0.1, 2, 20)\n",
    "ls = []\n",
    "for w in ws:\n",
    "    x, nm = rel(B, c, x0 + 1, w, 1e-6, 200)\n",
    "    ls.append(nm)\n",
    "\n",
    "index = ls.index(min(ls))\n",
    "w_opt = ws[index]\n",
    "print(\"Оптимальное значение w: \", w_opt)\n",
    "print(\"Решение x: \", rel(B, c, x0 + 1, w_opt, 1e-6, 200)[0])"
   ]
  }
 ],
 "metadata": {
  "kernelspec": {
   "display_name": "Python 3",
   "language": "python",
   "name": "python3"
  },
  "language_info": {
   "codemirror_mode": {
    "name": "ipython",
    "version": 3
   },
   "file_extension": ".py",
   "mimetype": "text/x-python",
   "name": "python",
   "nbconvert_exporter": "python",
   "pygments_lexer": "ipython3",
   "version": "3.7.1"
  }
 },
 "nbformat": 4,
 "nbformat_minor": 2
}
