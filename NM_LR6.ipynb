{
 "cells": [
  {
   "cell_type": "markdown",
   "metadata": {},
   "source": [
    "# 6.1.1"
   ]
  },
  {
   "cell_type": "code",
   "execution_count": 73,
   "metadata": {},
   "outputs": [
    {
     "name": "stdout",
     "output_type": "stream",
     "text": [
      "5.0\n",
      "4.229463265279999 8.605536734720001\n",
      "3.9249060458666656 8.910093954133336\n"
     ]
    },
    {
     "data": {
      "text/plain": [
       "0.0017187499999999998"
      ]
     },
     "execution_count": 73,
     "metadata": {},
     "output_type": "execute_result"
    }
   ],
   "source": [
    "import numpy as np\n",
    "import matplotlib.pyplot as plt \n",
    "import scipy.linalg as sci\n",
    "\n",
    "a, b = 1, 1.44\n",
    "c = np.array([0.6, 1.3, 0, 1.2, 1.9])\n",
    "\n",
    "def P_n(x, c):\n",
    "    return np.sum([c[i] * x**i for i in range(c.shape[0])])\n",
    "\n",
    "print (P_n(1, c))\n",
    "\n",
    "\n",
    "def Trapezoidal(f, a, b, h=b-1):\n",
    "    '''Вычисляет значение интеграла функции f(x) на отрезке [a, b] методом трапеций\n",
    "    h - шаг\n",
    "    Возвращает значение интеграла'''\n",
    "    x = np.linspace(a, b, round((b - a) / h) + 1)\n",
    "    res = (f(x[0], c) + f(x[-1], c)) / 2.\n",
    "    res += np.sum(f(x[1:-1], c))\n",
    "    return h * res \n",
    "\n",
    "def Simpson(f, a, b, h=b-a):\n",
    "    '''Вычисляет значение интеграла функции f(x) на отрезке [a, b] методом Симпсона\n",
    "    h - шаг\n",
    "    Возвращает значение интеграла'''\n",
    "    x = np.linspace(a, b, round((b - a) / h) + 1)\n",
    "    res = f(x[0], c) + f(x[-1], c)\n",
    "    res += 2 * np.sum(f(x[1:-1], c))\n",
    "    res += 4 * np.sum(f((x[:-1]+x[1:]) / 2., c))\n",
    "    return h / 6. * res\n",
    "\n",
    "res_tr = Trapezoidal(P_n, a, b, b - a)\n",
    "res_s = Simpson(P_n, a, b, b - a)\n",
    "res_true = 12.835\n",
    "print (res_tr, abs(res_tr - res_true))\n",
    "print (res_s, abs(res_s - res_true))\n",
    "\n",
    "\n",
    "\n",
    "h_tr = b - a\n",
    "M2 = 288.908\n",
    "while M2 * (b - a) * h_tr**2 / 12. >= 0.0001:\n",
    "    h_tr /= 2.\n",
    "h_tr\n",
    "\n"
   ]
  },
  {
   "cell_type": "code",
   "execution_count": 74,
   "metadata": {},
   "outputs": [
    {
     "data": {
      "text/plain": [
       "0.10999999999999999"
      ]
     },
     "execution_count": 74,
     "metadata": {},
     "output_type": "execute_result"
    }
   ],
   "source": [
    "h_s = b - a\n",
    "M4 = 573.12\n",
    "while M4 * (b - a) * h_s**4 / 2880. >= 0.0001:\n",
    "    h_s /= 2.\n",
    "h_s"
   ]
  },
  {
   "cell_type": "code",
   "execution_count": 75,
   "metadata": {},
   "outputs": [
    {
     "name": "stdout",
     "output_type": "stream",
     "text": [
      "3.924649595607798 8.910350404392203\n",
      "3.924645948501666 8.910354051498334\n"
     ]
    }
   ],
   "source": [
    "res_tr = Trapezoidal(P_n, a, b, h_tr)\n",
    "res_s = Simpson(P_n, a, b, h_s)\n",
    "print (res_tr, abs(res_tr - res_true))\n",
    "print (res_s, abs(res_s - res_true))"
   ]
  },
  {
   "cell_type": "markdown",
   "metadata": {},
   "source": [
    "# 6.2.1"
   ]
  },
  {
   "cell_type": "code",
   "execution_count": 76,
   "metadata": {},
   "outputs": [
    {
     "name": "stdout",
     "output_type": "stream",
     "text": [
      "6.199999999999999\n",
      "Аналитическое значение интеграла: 1\n"
     ]
    }
   ],
   "source": [
    "c = np.array([1, 0.9, 0.8, 0.7, 0.8, 1, 0, 1], dtype=float)\n",
    "a = 0\n",
    "b = 1\n",
    "\n",
    "\n",
    "def P_n(x, c):\n",
    "    return np.sum([c[i] * x**i for i in range(c.shape[0])])\n",
    "\n",
    "print (P_n(1, c))\n",
    "\n",
    "I_analit = 1\n",
    "print(\"Аналитическое значение интеграла: {}\".format(I_analit))"
   ]
  },
  {
   "cell_type": "code",
   "execution_count": 77,
   "metadata": {},
   "outputs": [
    {
     "data": {
      "text/plain": [
       "2.7132812499999996"
      ]
     },
     "execution_count": 77,
     "metadata": {},
     "output_type": "execute_result"
    }
   ],
   "source": [
    "In = Trapezoidal(P_n, a, b, (b - a)/2)\n",
    "In"
   ]
  },
  {
   "cell_type": "code",
   "execution_count": 78,
   "metadata": {},
   "outputs": [
    {
     "name": "stdout",
     "output_type": "stream",
     "text": [
      "Погрешность по правилу Рунге: 0.2955729166666667\n",
      "Реальная абсолютная погрешность: 1.7132812499999996\n"
     ]
    }
   ],
   "source": [
    "In_1 = Trapezoidal(P_n, a, b, b-a)\n",
    "\n",
    "rung = abs(In - In_1)/3\n",
    "\n",
    "print(\"Погрешность по правилу Рунге: {}\".format(rung))\n",
    "print(\"Реальная абсолютная погрешность: {}\".format(abs(I_analit - In)))"
   ]
  },
  {
   "cell_type": "markdown",
   "metadata": {},
   "source": [
    "Формула трапеций дает точный результат только для многочленов первой степени, поскольку эта формула предполагает аппроксимацию прямыми отрезками"
   ]
  },
  {
   "cell_type": "markdown",
   "metadata": {},
   "source": [
    "# 6.5.1"
   ]
  },
  {
   "cell_type": "code",
   "execution_count": 130,
   "metadata": {},
   "outputs": [],
   "source": [
    "def simpson(f, left, right):\n",
    "    return (right - left) / 6 * (f(left) + 4 * f((left + right) / 2) + f(right))\n",
    "\n",
    "def f5(t):\n",
    "    return sin(t**2)\n",
    "\n",
    "a = 0 \n",
    "x1 = 0\n",
    "x2 = 2"
   ]
  },
  {
   "cell_type": "code",
   "execution_count": 131,
   "metadata": {},
   "outputs": [],
   "source": [
    "def apply_fun_in_splits(f, n_splits, g, left, right):\n",
    "    \n",
    "    splits = np.linspace(left, right, n_splits + 1)\n",
    "    \n",
    "    results = list()\n",
    "    for i in range(n_splits):\n",
    "        results.append(f(g, splits[i], splits[i + 1]))\n",
    "    \n",
    "    return np.asarray(results)\n",
    "\n",
    "def adapt_simpson(f, left, right, n_splits, min_diff):\n",
    "    int_1 = np.sum(apply_fun_in_splits(simpson, n_splits, f, left, right))\n",
    "    int_2 = np.sum(apply_fun_in_splits(simpson, n_splits * 2, f, left, right))\n",
    "    \n",
    "    if np.abs(int_1 - int_2) > min_diff:\n",
    "        mid = (left + right) / 2\n",
    "        return adapt_simpson(f, left, mid, n_splits * 2, min_diff) + adapt_simpson(f, mid, right, n_splits * 2, min_diff)\n",
    "    else:\n",
    "        return int_1"
   ]
  },
  {
   "cell_type": "code",
   "execution_count": 132,
   "metadata": {},
   "outputs": [
    {
     "data": {
      "text/plain": [
       "0.310268301721957"
      ]
     },
     "execution_count": 132,
     "metadata": {},
     "output_type": "execute_result"
    }
   ],
   "source": [
    "adapt_simpson(f5, 0, 1, 2, 1e-12)"
   ]
  },
  {
   "cell_type": "code",
   "execution_count": 134,
   "metadata": {},
   "outputs": [
    {
     "data": {
      "text/plain": [
       "[<matplotlib.lines.Line2D at 0x151c77f588>]"
      ]
     },
     "execution_count": 134,
     "metadata": {},
     "output_type": "execute_result"
    },
    {
     "data": {
      "image/png": "[encoded data removed]",
      "text/plain": [
       "<Figure size 432x288 with 1 Axes>"
      ]
     },
     "metadata": {
      "needs_background": "light"
     },
     "output_type": "display_data"
    }
   ],
   "source": [
    "xs = np.linspace(x1, x2, 100)\n",
    "y = np.asarray(list(map(lambda x: adapt_simpson(f5, a, x, 2, 1e-8), xs)))\n",
    "\n",
    "import matplotlib.pyplot as plt\n",
    "\n",
    "plt.plot(xs, y)"
   ]
  },
  {
   "cell_type": "code",
   "execution_count": 136,
   "metadata": {},
   "outputs": [
    {
     "data": {
      "text/plain": [
       "3*sqrt(2)*sqrt(pi)*fresnels(sqrt(2)*x/sqrt(pi))*gamma(3/4)/(8*gamma(7/4))"
      ]
     },
     "execution_count": 136,
     "metadata": {},
     "output_type": "execute_result"
    }
   ],
   "source": [
    "from sympy import Symbol, sin, integrate, sqrt, pi\n",
    "\n",
    "x = Symbol('x')\n",
    "t = Symbol('t')\n",
    "f = sin(t**2)\n",
    "analitical_int = integrate(f, (t, 0, x))\n",
    "analitical_int"
   ]
  },
  {
   "cell_type": "code",
   "execution_count": 157,
   "metadata": {},
   "outputs": [
    {
     "data": {
      "text/plain": [
       "<matplotlib.legend.Legend at 0x151e6dada0>"
      ]
     },
     "execution_count": 157,
     "metadata": {},
     "output_type": "execute_result"
    },
    {
     "data": {
      "image/png": "[encoded data removed]",
      "text/plain": [
       "<Figure size 432x288 with 1 Axes>"
      ]
     },
     "metadata": {
      "needs_background": "light"
     },
     "output_type": "display_data"
    }
   ],
   "source": [
    "plt.plot(xs, y, label='numerical')\n",
    "plt.plot(xs, list(map(lambda x: integrate(f, (t, 0, x)), xs)), '-', label='analytical')\n",
    "\n",
    "plt.legend()\n",
    "\n"
   ]
  },
  {
   "cell_type": "markdown",
   "metadata": {},
   "source": [
    "# 6.6.1"
   ]
  },
  {
   "cell_type": "markdown",
   "metadata": {},
   "source": [
    "# 6.9.1"
   ]
  }
 ],
 "metadata": {
  "kernelspec": {
   "display_name": "Python 3",
   "language": "python",
   "name": "python3"
  },
  "language_info": {
   "codemirror_mode": {
    "name": "ipython",
    "version": 3
   },
   "file_extension": ".py",
   "mimetype": "text/x-python",
   "name": "python",
   "nbconvert_exporter": "python",
   "pygments_lexer": "ipython3",
   "version": "3.7.1"
  }
 },
 "nbformat": 4,
 "nbformat_minor": 2
}
