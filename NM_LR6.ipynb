{
 "cells": [
  {
   "cell_type": "markdown",
   "metadata": {},
   "source": [
    "# 6.1.1"
   ]
  },
  {
   "cell_type": "code",
   "execution_count": 15,
   "metadata": {},
   "outputs": [
    {
     "name": "stdout",
     "output_type": "stream",
     "text": [
      "5.0\n",
      "4.229463265279999 8.605536734720001\n",
      "3.9249060458666656 8.910093954133336\n"
     ]
    },
    {
     "data": {
      "text/plain": [
       "0.0017187499999999998"
      ]
     },
     "execution_count": 15,
     "metadata": {},
     "output_type": "execute_result"
    }
   ],
   "source": [
    "import numpy as np\n",
    "import matplotlib.pyplot as plt \n",
    "import scipy.linalg as sci\n",
    "\n",
    "a, b = 1, 1.44\n",
    "c = np.array([0.6, 1.3, 0, 1.2, 1.9])\n",
    "\n",
    "def P_n(x, c):\n",
    "    return np.sum([c[i] * x**i for i in range(c.shape[0])])\n",
    "\n",
    "print (P_n(1, c))\n",
    "\n",
    "\n",
    "def Trapezoidal(f, a, b, h):\n",
    "    '''Вычисляет значение интеграла функции f(x) на отрезке [a, b] методом трапеций\n",
    "    h - шаг\n",
    "    Возвращает значение интеграла'''\n",
    "    x = np.linspace(a, b, round((b - a) / h) + 1)\n",
    "    res = (f(x[0], c) + f(x[-1], c)) / 2.\n",
    "    res += np.sum(f(x[1:-1], c))\n",
    "    return h * res \n",
    "\n",
    "def Simpson(f, a, b, h):\n",
    "    '''Вычисляет значение интеграла функции f(x) на отрезке [a, b] методом Симпсона\n",
    "    h - шаг\n",
    "    Возвращает значение интеграла'''\n",
    "    x = np.linspace(a, b, round((b - a) / h) + 1)\n",
    "    res = f(x[0], c) + f(x[-1], c)\n",
    "    res += 2 * np.sum(f(x[1:-1], c))\n",
    "    res += 4 * np.sum(f((x[:-1]+x[1:]) / 2., c))\n",
    "    return h / 6. * res\n",
    "\n",
    "res_tr = Trapezoidal(P_n, a, b, b - a)\n",
    "res_s = Simpson(P_n, a, b, b - a)\n",
    "res_true = 12.835\n",
    "print (res_tr, abs(res_tr - res_true))\n",
    "print (res_s, abs(res_s - res_true))\n",
    "\n",
    "\n",
    "\n",
    "h_tr = b - a\n",
    "M2 = 288.908\n",
    "while M2 * (b - a) * h_tr**2 / 12. >= 0.0001:\n",
    "    h_tr /= 2.\n",
    "h_tr\n",
    "\n"
   ]
  },
  {
   "cell_type": "code",
   "execution_count": 16,
   "metadata": {},
   "outputs": [
    {
     "data": {
      "text/plain": [
       "0.10999999999999999"
      ]
     },
     "execution_count": 16,
     "metadata": {},
     "output_type": "execute_result"
    }
   ],
   "source": [
    "h_s = b - a\n",
    "M4 = 573.12\n",
    "while M4 * (b - a) * h_s**4 / 2880. >= 0.0001:\n",
    "    h_s /= 2.\n",
    "h_s"
   ]
  },
  {
   "cell_type": "code",
   "execution_count": 17,
   "metadata": {},
   "outputs": [
    {
     "name": "stdout",
     "output_type": "stream",
     "text": [
      "3.924649595607798 8.910350404392203\n",
      "3.924645948501666 8.910354051498334\n"
     ]
    }
   ],
   "source": [
    "res_tr = Trapezoidal(P_n, a, b, h_tr)\n",
    "res_s = Simpson(P_n, a, b, h_s)\n",
    "print (res_tr, abs(res_tr - res_true))\n",
    "print (res_s, abs(res_s - res_true))"
   ]
  },
  {
   "cell_type": "markdown",
   "metadata": {},
   "source": [
    "# 6.2.1"
   ]
  },
  {
   "cell_type": "code",
   "execution_count": 44,
   "metadata": {},
   "outputs": [
    {
     "name": "stdout",
     "output_type": "stream",
     "text": [
      "6.199999999999999\n",
      "Аналитическое значение интеграла: 1\n"
     ]
    }
   ],
   "source": [
    "c = np.array([1, 0.9, 0.8, 0.7, 0.8, 1, 0, 1], dtype=float)\n",
    "a = 0\n",
    "b = 1\n",
    "\n",
    "\n",
    "def P_n(x, c):\n",
    "    return np.sum([c[i] * x**i for i in range(c.shape[0])])\n",
    "\n",
    "print (P_n(1, c))\n",
    "\n",
    "I_analit = 1\n",
    "print(\"Аналитическое значение интеграла: {}\".format(I_analit))"
   ]
  },
  {
   "cell_type": "code",
   "execution_count": 49,
   "metadata": {},
   "outputs": [
    {
     "data": {
      "text/plain": [
       "2.7132812499999996"
      ]
     },
     "execution_count": 49,
     "metadata": {},
     "output_type": "execute_result"
    }
   ],
   "source": [
    "In = Trapezoidal(P_n, a, b, (b - a)/2)\n",
    "In"
   ]
  },
  {
   "cell_type": "code",
   "execution_count": 54,
   "metadata": {},
   "outputs": [
    {
     "name": "stdout",
     "output_type": "stream",
     "text": [
      "Погрешность по правилу Рунге: 0.2955729166666667\n",
      "Реальная абсолютная погрешность: 1.7132812499999996\n"
     ]
    }
   ],
   "source": [
    "In_1 = Trapezoidal(P_n, a, b, b-a)\n",
    "\n",
    "rung = abs(In - In_1)/3\n",
    "\n",
    "print(\"Погрешность по правилу Рунге: {}\".format(rung))\n",
    "print(\"Реальная абсолютная погрешность: {}\".format(abs(I_analit - In)))"
   ]
  },
  {
   "cell_type": "markdown",
   "metadata": {},
   "source": [
    "Формула трапеций дает точный результат только для многочленов первой степени, поскольку эта формула предполагает аппроксимацию прямыми отрезками"
   ]
  },
  {
   "cell_type": "markdown",
   "metadata": {},
   "source": [
    "# 6.5.1"
   ]
  },
  {
   "cell_type": "markdown",
   "metadata": {},
   "source": [
    "# 6.6.1"
   ]
  },
  {
   "cell_type": "markdown",
   "metadata": {},
   "source": [
    "# 6.9.1"
   ]
  }
 ],
 "metadata": {
  "kernelspec": {
   "display_name": "Python 3",
   "language": "python",
   "name": "python3"
  },
  "language_info": {
   "codemirror_mode": {
    "name": "ipython",
    "version": 3
   },
   "file_extension": ".py",
   "mimetype": "text/x-python",
   "name": "python",
   "nbconvert_exporter": "python",
   "pygments_lexer": "ipython3",
   "version": "3.7.1"
  }
 },
 "nbformat": 4,
 "nbformat_minor": 2
}
