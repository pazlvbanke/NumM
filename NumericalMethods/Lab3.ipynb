{
 "cells": [
  {
   "cell_type": "code",
   "execution_count": 2,
   "metadata": {},
   "outputs": [
    {
     "data": {
      "text/plain": [
       "24"
      ]
     },
     "execution_count": 2,
     "metadata": {},
     "output_type": "execute_result"
    }
   ],
   "source": [
    "import numpy as np\n",
    "\n",
    "вариант = len('МезенцевГлебВладимирович')%30\n",
    "вариант"
   ]
  },
  {
   "cell_type": "markdown",
   "metadata": {},
   "source": [
    "![](img/nm_1.png)"
   ]
  },
  {
   "cell_type": "markdown",
   "metadata": {},
   "source": [
    "![](img/nm_2.png)\n",
    "![](img/nm_10.png)\n",
    "![](img/nm_3.png)"
   ]
  },
  {
   "cell_type": "markdown",
   "metadata": {},
   "source": [
    "###  Задаём условие"
   ]
  },
  {
   "cell_type": "code",
   "execution_count": 3,
   "metadata": {},
   "outputs": [],
   "source": [
    "N = вариант\n",
    "n = 4\n",
    "c_to_a = np.vectorize(lambda c: 159/(10 * c**3 + c**2 + 25))\n",
    "c = np.array([[0.1 * N * i * j for j in range(1, n+1)]for i in range(1, n+1)])\n",
    "\n",
    "b = N*np.ones(n)\n",
    "A = c_to_a(c)"
   ]
  },
  {
   "cell_type": "markdown",
   "metadata": {},
   "source": [
    "###  Решаем систему и находим число обусловленности"
   ]
  },
  {
   "cell_type": "code",
   "execution_count": 4,
   "metadata": {},
   "outputs": [],
   "source": [
    "x = np.linalg.solve(A, b)\n",
    "cond = np.linalg.cond(A, p = np.inf)"
   ]
  },
  {
   "cell_type": "markdown",
   "metadata": {},
   "source": [
    "###  Исследуем зависимость погрешность решения от погрешности правой части"
   ]
  },
  {
   "cell_type": "code",
   "execution_count": 5,
   "metadata": {},
   "outputs": [
    {
     "name": "stdout",
     "output_type": "stream",
     "text": [
      "d_0 = 0.0\n",
      "d_1 = 0.0\n",
      "d_2 = 1.5678991406383747e-15\n",
      "d_3 = 1.5678991406383747e-15\n",
      "\n",
      "d_max pract = 1.5678991406383747e-15\n",
      "d_max theor = 1.0873573522395077e-06\n"
     ]
    }
   ],
   "source": [
    "delta = 1e-14\n",
    "Bi = np.array([b]*n) + delta * (np.eye(n,n))\n",
    "\n",
    "def di(bi, x):\n",
    "    xi = np.linalg.solve(A, bi)\n",
    "    return np.linalg.norm(x - xi, ord = np.inf) / np.linalg.norm(x, ord = np.inf)\n",
    "\n",
    "Di = np.apply_along_axis(di, 0, Bi, x)\n",
    "max_d_ind = np.argmax(Di)\n",
    "\n",
    "d_th = cond * np.linalg.norm(Bi[max_d_ind]- b, ord = np.inf)\n",
    "\n",
    "[print('d_'+str(i)+' = '+str(Di[i])) for i in range(n)];\n",
    "print('\\nd_max pract = '+str(Di[max_d_ind]))\n",
    "print('d_max theor = '+str(d_th))"
   ]
  },
  {
   "cell_type": "markdown",
   "metadata": {},
   "source": [
    "###  Разница в теоричиском и практическом значении оказалась колоссальной. Но теоритическая оценка является оценкой сверху, поэтому никаких противоречий нет."
   ]
  },
  {
   "cell_type": "markdown",
   "metadata": {},
   "source": [
    "![](img/nm_4.png)\n",
    "![](img/nm_5.png)"
   ]
  },
  {
   "cell_type": "markdown",
   "metadata": {},
   "source": [
    "###  Задаём условие"
   ]
  },
  {
   "cell_type": "code",
   "execution_count": 6,
   "metadata": {},
   "outputs": [],
   "source": [
    "A = np.array([[3,1,0,0,0],\n",
    "              [1,2,1,0,0],\n",
    "              [0,1,1,1,0],\n",
    "              [0,0,1,0,1],\n",
    "              [0,0,0,1,1]])"
   ]
  },
  {
   "cell_type": "markdown",
   "metadata": {},
   "source": [
    "###  В качестве независимых векторов выбираем единичные, решаем 5 систем и находим отношения норм решений к нормам правых частей"
   ]
  },
  {
   "cell_type": "code",
   "execution_count": 7,
   "metadata": {},
   "outputs": [],
   "source": [
    "Bi = np.eye(5)\n",
    "Xi = np.array([np.linalg.solve(A, b) for b in Bi])\n",
    "ratios = [np.linalg.norm(Xi[i], ord=np.inf)/np.linalg.norm(Bi[i], ord=np.inf) for i in range(Bi.shape[0])]"
   ]
  },
  {
   "cell_type": "markdown",
   "metadata": {},
   "source": [
    "###  Находим оценку для нормы обратной матрицы"
   ]
  },
  {
   "cell_type": "code",
   "execution_count": 8,
   "metadata": {},
   "outputs": [],
   "source": [
    "inverse_matrix_norm = np.max(ratios)"
   ]
  },
  {
   "cell_type": "markdown",
   "metadata": {},
   "source": [
    "###  Находим число обусловенности матрицы A,  полученное с помощью вычислительного эксперимента"
   ]
  },
  {
   "cell_type": "code",
   "execution_count": 9,
   "metadata": {},
   "outputs": [
    {
     "data": {
      "text/plain": [
       "3.4285714285714284"
      ]
     },
     "execution_count": 9,
     "metadata": {},
     "output_type": "execute_result"
    }
   ],
   "source": [
    "cond_exp = np.linalg.norm(A, ord = np.inf)*inverse_matrix_norm\n",
    "cond_exp"
   ]
  },
  {
   "cell_type": "markdown",
   "metadata": {},
   "source": [
    "![](img/nm_9.png)\n",
    "![](img/nm_7.png)\n",
    "![](img/nm_11.png)\n",
    "![](img/nm_8.png)"
   ]
  },
  {
   "cell_type": "markdown",
   "metadata": {},
   "source": [
    "###  Реализуем метод декомпозиции Холецкого"
   ]
  },
  {
   "cell_type": "code",
   "execution_count": 10,
   "metadata": {},
   "outputs": [],
   "source": [
    "def cholesky(A):\n",
    "    L = np.zeros(A.shape)\n",
    "    for i in range(A.shape[0]):\n",
    "        for j in range(i+1):\n",
    "            if i != j:\n",
    "                L[i,j] = 1 / L[j,j] * (A[i,j]-np.dot(L[i],L[j]))\n",
    "            else:\n",
    "                L[i,i] = np.sqrt(A[i,i] - np.dot(L[i],L[i]))\n",
    "    return L            "
   ]
  },
  {
   "cell_type": "markdown",
   "metadata": {},
   "source": [
    "###  Проведём несколько тестов, сверив результаты работы с результатами метода, реализованного в модуле np.linalg"
   ]
  },
  {
   "cell_type": "code",
   "execution_count": 11,
   "metadata": {},
   "outputs": [],
   "source": [
    "A1 = np.array([[2,-1,0],[-1,2,-1],[0,-1,2]])\n",
    "B1 = np.linalg.cholesky(A1)\n",
    "C1 = cholesky(A1)\n",
    "assert np.array_equal(B1,C1)"
   ]
  },
  {
   "cell_type": "code",
   "execution_count": 12,
   "metadata": {},
   "outputs": [],
   "source": [
    "A2 = np.array([[6,3,0],[1,9,1],[3,1,2]])\n",
    "B2 = np.linalg.cholesky(A2)\n",
    "C2 = cholesky(A2)\n",
    "assert np.array_equal(B2,C2)"
   ]
  },
  {
   "cell_type": "code",
   "execution_count": 13,
   "metadata": {},
   "outputs": [],
   "source": [
    "A3 = np.array([[1,0],[0,1]])\n",
    "B3 = np.linalg.cholesky(A3)\n",
    "C3 = cholesky(A3)\n",
    "assert np.array_equal(B3,C3)"
   ]
  },
  {
   "cell_type": "code",
   "execution_count": 14,
   "metadata": {},
   "outputs": [],
   "source": [
    "A4 = np.array([[1,2,5],[1,4,6],[0,3,4]])\n",
    "B4 = np.linalg.cholesky(A4)\n",
    "C4 = cholesky(A4)\n",
    "assert np.array_equal(B4,C4)"
   ]
  },
  {
   "cell_type": "markdown",
   "metadata": {},
   "source": [
    "###  Все тесты прошли успешно"
   ]
  },
  {
   "cell_type": "markdown",
   "metadata": {},
   "source": [
    "###  Зададим условие"
   ]
  },
  {
   "cell_type": "code",
   "execution_count": 15,
   "metadata": {},
   "outputs": [],
   "source": [
    "N = вариант\n",
    "n = 30\n",
    "m = 20\n",
    "\n",
    "b = np.array([m * i + n for i in range(n)])\n",
    "A = np.array([\n",
    "    [(i+j)/(m+n) if i!=j else (n+m**2+j/m+i/n)\n",
    "                             for j in range(n)]\n",
    "                                for i in range(n)])"
   ]
  },
  {
   "cell_type": "markdown",
   "metadata": {},
   "source": [
    "###  Решим систему методом Холецкого и найдём число обусловленности матрицы A"
   ]
  },
  {
   "cell_type": "code",
   "execution_count": 16,
   "metadata": {},
   "outputs": [
    {
     "data": {
      "text/plain": [
       "1.1167057395667688"
      ]
     },
     "execution_count": 16,
     "metadata": {},
     "output_type": "execute_result"
    }
   ],
   "source": [
    "L = cholesky(A)\n",
    "y = np.linalg.solve(L, b)\n",
    "x = np.linalg.solve(L.T,y)\n",
    "A_inv = np.dot(np.linalg.inv(L.T),np.linalg.inv(L))\n",
    "\n",
    "cond = np.linalg.norm(A, ord = np.inf)*np.linalg.norm(A_inv, ord = np.inf)\n",
    "cond"
   ]
  }
 ],
 "metadata": {
  "kernelspec": {
   "display_name": "Python 3",
   "language": "python",
   "name": "python3"
  },
  "language_info": {
   "codemirror_mode": {
    "name": "ipython",
    "version": 3
   },
   "file_extension": ".py",
   "mimetype": "text/x-python",
   "name": "python",
   "nbconvert_exporter": "python",
   "pygments_lexer": "ipython3",
   "version": "3.7.1"
  }
 },
 "nbformat": 4,
 "nbformat_minor": 2
}
